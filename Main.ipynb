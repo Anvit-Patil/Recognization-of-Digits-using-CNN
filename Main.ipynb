{
  "nbformat": 4,
  "nbformat_minor": 0,
  "metadata": {
    "colab": {
      "provenance": []
    },
    "kernelspec": {
      "name": "python3",
      "display_name": "Python 3"
    },
    "language_info": {
      "name": "python"
    }
  },
  "cells": [
    {
      "cell_type": "code",
      "execution_count": 182,
      "metadata": {
        "id": "ntSw6RLg2f3A"
      },
      "outputs": [],
      "source": [
        "import matplotlib.pyplot as plt\n",
        "import tensorflow as tf\n",
        "from tensorflow import keras\n",
        "import numpy as np\n",
        "\n",
        "from sklearn.datasets import load_digits\n",
        "from sklearn.model_selection import train_test_split"
      ]
    },
    {
      "cell_type": "markdown",
      "source": [
        "#Loading and Displaying the Digits"
      ],
      "metadata": {
        "id": "603dVRcpDQuL"
      }
    },
    {
      "cell_type": "code",
      "source": [
        "#Loading and displaying digits\n",
        "digits = load_digits()\n",
        "_, axes = plt.subplots(nrows=1, ncols=10, figsize=(25, 3))\n",
        "for ax, image, label in zip(axes, digits.images, digits.target):\n",
        "    ax.set_axis_off()\n",
        "    ax.imshow(image, cmap=plt.cm.gray_r, interpolation=\"nearest\")\n",
        "    ax.set_title(\"Display: %i \" % label)     "
      ],
      "metadata": {
        "colab": {
          "base_uri": "https://localhost:8080/",
          "height": 165
        },
        "id": "FFDOlYQ3GUbm",
        "outputId": "9c174779-d107-41ab-d8f3-d4241af503b7"
      },
      "execution_count": 183,
      "outputs": [
        {
          "output_type": "display_data",
          "data": {
            "text/plain": [
              "<Figure size 1800x216 with 10 Axes>"
            ],
            "image/png": "[encoded data removed]"
          },
          "metadata": {
            "needs_background": "light"
          }
        }
      ]
    },
    {
      "cell_type": "code",
      "source": [
        "X_train, X_test, y_train, y_test = train_test_split(digits.data, digits.target, test_size=0.3)  "
      ],
      "metadata": {
        "id": "lkIDdTYXHiym"
      },
      "execution_count": 184,
      "outputs": []
    },
    {
      "cell_type": "markdown",
      "source": [
        "#Implementing the Model using Keras"
      ],
      "metadata": {
        "id": "RzmBCxXLBhqT"
      }
    },
    {
      "cell_type": "code",
      "source": [
        "#print(digits.data.shape[1])\n",
        "\n",
        "#model declaration\n",
        "model = keras.models.Sequential([\n",
        "    keras.layers.Dense(64, activation='relu', input_shape=(digits.data.shape[1],), name=\"layer1\"),\n",
        "    keras.layers.Dense(32, activation='relu', name=\"layer2\"),\n",
        "    keras.layers.Dense(10, activation='softmax', name=\"layer3\")\n",
        "])\n",
        "\n",
        "# compile model\n",
        "model.compile(loss='sparse_categorical_crossentropy', optimizer='adam', metrics=['accuracy'])\n",
        "\n",
        "# train model\n",
        "model.fit(X_train, y_train, epochs=20, batch_size=100)\n",
        "\n",
        "# evaluate model on train set\n",
        "#train_loss, train_acc = model.evaluate(X_train, y_train)\n",
        "# evaluate model on test set\n",
        "#test_loss, test_acc = model.evaluate(X_test, y_test)"
      ],
      "metadata": {
        "colab": {
          "base_uri": "https://localhost:8080/"
        },
        "id": "fgPrVIFPdUj1",
        "outputId": "5b25d3f2-add4-4a88-86d8-faf2dde6319a"
      },
      "execution_count": 185,
      "outputs": [
        {
          "output_type": "stream",
          "name": "stdout",
          "text": [
            "Epoch 1/20\n",
            "13/13 [==============================] - 1s 3ms/step - loss: 5.1055 - accuracy: 0.1687\n",
            "Epoch 2/20\n",
            "13/13 [==============================] - 0s 3ms/step - loss: 1.9693 - accuracy: 0.3628\n",
            "Epoch 3/20\n",
            "13/13 [==============================] - 0s 3ms/step - loss: 1.2259 - accuracy: 0.6094\n",
            "Epoch 4/20\n",
            "13/13 [==============================] - 0s 3ms/step - loss: 0.8592 - accuracy: 0.7239\n",
            "Epoch 5/20\n",
            "13/13 [==============================] - 0s 3ms/step - loss: 0.6416 - accuracy: 0.7987\n",
            "Epoch 6/20\n",
            "13/13 [==============================] - 0s 4ms/step - loss: 0.4970 - accuracy: 0.8488\n",
            "Epoch 7/20\n",
            "13/13 [==============================] - 0s 3ms/step - loss: 0.4003 - accuracy: 0.8751\n",
            "Epoch 8/20\n",
            "13/13 [==============================] - 0s 4ms/step - loss: 0.3277 - accuracy: 0.9053\n",
            "Epoch 9/20\n",
            "13/13 [==============================] - 0s 3ms/step - loss: 0.2731 - accuracy: 0.9212\n",
            "Epoch 10/20\n",
            "13/13 [==============================] - 0s 3ms/step - loss: 0.2304 - accuracy: 0.9411\n",
            "Epoch 11/20\n",
            "13/13 [==============================] - 0s 3ms/step - loss: 0.2024 - accuracy: 0.9451\n",
            "Epoch 12/20\n",
            "13/13 [==============================] - 0s 3ms/step - loss: 0.1719 - accuracy: 0.9515\n",
            "Epoch 13/20\n",
            "13/13 [==============================] - 0s 3ms/step - loss: 0.1519 - accuracy: 0.9586\n",
            "Epoch 14/20\n",
            "13/13 [==============================] - 0s 3ms/step - loss: 0.1356 - accuracy: 0.9642\n",
            "Epoch 15/20\n",
            "13/13 [==============================] - 0s 3ms/step - loss: 0.1216 - accuracy: 0.9658\n",
            "Epoch 16/20\n",
            "13/13 [==============================] - 0s 3ms/step - loss: 0.1101 - accuracy: 0.9730\n",
            "Epoch 17/20\n",
            "13/13 [==============================] - 0s 3ms/step - loss: 0.0999 - accuracy: 0.9745\n",
            "Epoch 18/20\n",
            "13/13 [==============================] - 0s 3ms/step - loss: 0.0927 - accuracy: 0.9769\n",
            "Epoch 19/20\n",
            "13/13 [==============================] - 0s 3ms/step - loss: 0.0837 - accuracy: 0.9809\n",
            "Epoch 20/20\n",
            "13/13 [==============================] - 0s 3ms/step - loss: 0.0810 - accuracy: 0.9793\n"
          ]
        },
        {
          "output_type": "execute_result",
          "data": {
            "text/plain": [
              "<keras.callbacks.History at 0x7ff81c20a4c0>"
            ]
          },
          "metadata": {},
          "execution_count": 185
        }
      ]
    },
    {
      "cell_type": "code",
      "source": [
        "#test\n",
        "print(model.layers[0].get_weights()[0])"
      ],
      "metadata": {
        "colab": {
          "base_uri": "https://localhost:8080/"
        },
        "id": "La7pQxuemHWD",
        "outputId": "1f5f31d5-d35c-473a-fc1f-a58790952495"
      },
      "execution_count": 186,
      "outputs": [
        {
          "output_type": "stream",
          "name": "stdout",
          "text": [
            "[[-0.1240747   0.11674716  0.05140178 ...  0.06688534 -0.14606327\n",
            "   0.02216087]\n",
            " [-0.21378046 -0.15320867 -0.1431493  ... -0.18794322  0.01534176\n",
            "   0.09352768]\n",
            " [ 0.05307874 -0.15443005  0.06084968 ...  0.02234861 -0.02786798\n",
            "   0.01940014]\n",
            " ...\n",
            " [-0.15880005  0.05309869  0.04469525 ... -0.19931349 -0.02653784\n",
            "   0.10851209]\n",
            " [-0.14628382 -0.06160574 -0.10818426 ... -0.18410818  0.16152067\n",
            "  -0.08436508]\n",
            " [-0.01360707  0.15802869  0.04260643 ... -0.20923266 -0.05062271\n",
            "  -0.0218163 ]]\n"
          ]
        }
      ]
    },
    {
      "cell_type": "markdown",
      "source": [
        "#Saving the Weights and Biases"
      ],
      "metadata": {
        "id": "rtgpx04nBSlq"
      }
    },
    {
      "cell_type": "code",
      "source": [
        "# Saving Weights\n",
        "W1 = model.layers[0].get_weights()[0]\n",
        "W2 = model.layers[1].get_weights()[0]\n",
        "W3 = model.layers[2].get_weights()[0]\n",
        "\n",
        "#Saving Biases\n",
        "B1 = model.layers[0].get_weights()[1]\n",
        "B2 = model.layers[1].get_weights()[1]\n",
        "B3 = model.layers[2].get_weights()[1]"
      ],
      "metadata": {
        "id": "vL0aKuo0pAPq"
      },
      "execution_count": 187,
      "outputs": []
    },
    {
      "cell_type": "markdown",
      "source": [
        "#Implementing the model manually"
      ],
      "metadata": {
        "id": "yuCvbSAsA7Ka"
      }
    },
    {
      "cell_type": "code",
      "source": [
        "\n",
        "X = digits.data\n",
        "y=  digits.target\n",
        "\n",
        "#Splitting again\n",
        "X_train, X_test, y_train, y_test = train_test_split(digits.data, digits['target'], test_size=0.3) \n",
        "\n",
        "# Defining the activation functions\n",
        "def relu(x):\n",
        "    return np.maximum(0, x)\n",
        "\n",
        "#def sigmoid(x):\n",
        "#    return 1 / (1 + np.exp(-x))\n",
        "\n",
        "def softmax(x):\n",
        "    exp = np.exp(x - np.max(x, axis=1, keepdims=True))\n",
        "    return exp / np.sum(exp, axis=1, keepdims=True)\n",
        "\n",
        "# Forward propagation function\n",
        "def forward_propagation(X):\n",
        "    L1 = np.dot(X, W1) + B1\n",
        "    A1 = relu(L1)\n",
        "    L2 = np.dot(A1, W2) + B2\n",
        "    A2 = relu(L2)\n",
        "    L3 = np.dot(A2, W3) + B3\n",
        "    A3 = softmax(L3)\n",
        "    return A3\n",
        "\n",
        "#Implementing the model\n",
        "Pred = forward_propagation(X_test)\n",
        "#print(Pred)\n",
        "\n",
        "# Computing the accuracy of the predictions\n",
        "def accuracy(predictions, labels):\n",
        "    return np.mean(Pred.argmax(axis=1) == labels)\n",
        "acc = accuracy(Pred, y_test)\n",
        "print(\"Accuracy with NumPy: \", acc)\n",
        "\n"
      ],
      "metadata": {
        "colab": {
          "base_uri": "https://localhost:8080/"
        },
        "id": "b2iVmyk2piaT",
        "outputId": "a11a0ade-28eb-445c-a2bc-904acab2daf9"
      },
      "execution_count": 188,
      "outputs": [
        {
          "output_type": "stream",
          "name": "stdout",
          "text": [
            "Accuracy:  0.9814814814814815\n"
          ]
        }
      ]
    },
    {
      "cell_type": "markdown",
      "source": [
        "# Plotting Images for 10 randomn digits"
      ],
      "metadata": {
        "id": "7DF34oWXAhVH"
      }
    },
    {
      "cell_type": "code",
      "source": [
        "# Plot some examples from the testing set\n",
        "fig, ax = plt.subplots(2, 5, figsize=(8, 4))\n",
        "\n",
        "for i, axi in enumerate(ax.flat):\n",
        "    img1 = X_test[i].reshape(8, 8)\n",
        "    axi.imshow(img1, cmap='binary')    \n",
        "    axi.set_xlabel(\"Manual.value: {}\".format(Pred[i].argmax()), color='green')\n",
        "\n",
        "plt.show()\n",
        "\n",
        "# Obtain the prediction for those examples from the model\n",
        "y_pred = model.predict(X_test)\n",
        "\n",
        "fig, axs = plt.subplots(2, 5, figsize=(8, 4))\n",
        "axs = axs.flatten()\n",
        "\n",
        "for i in range(10):\n",
        "    img = X_test[i].reshape(8, 8)\n",
        "    axs[i].imshow(img, cmap='gray')    \n",
        "    axs[i].set_xlabel(\"Model.value: {}\".format(y_pred[i].argmax()), color='green')\n",
        "\n",
        "plt.show()"
      ],
      "metadata": {
        "colab": {
          "base_uri": "https://localhost:8080/",
          "height": 514
        },
        "id": "5ZKUhFsGASm-",
        "outputId": "12464c5e-c501-4cbe-dc2b-78e91fd4695c"
      },
      "execution_count": 189,
      "outputs": [
        {
          "output_type": "display_data",
          "data": {
            "text/plain": [
              "<Figure size 576x288 with 10 Axes>"
            ],
            "image/png": "[encoded data removed]"
          },
          "metadata": {
            "needs_background": "light"
          }
        },
        {
          "output_type": "stream",
          "name": "stdout",
          "text": [
            "17/17 [==============================] - 0s 4ms/step\n"
          ]
        },
        {
          "output_type": "display_data",
          "data": {
            "text/plain": [
              "<Figure size 576x288 with 10 Axes>"
            ],
            "image/png": "[encoded data removed]"
          },
          "metadata": {
            "needs_background": "light"
          }
        }
      ]
    }
  ]
}